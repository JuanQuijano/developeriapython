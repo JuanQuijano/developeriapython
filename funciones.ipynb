{
 "cells": [
  {
   "cell_type": "markdown",
   "metadata": {},
   "source": [
    "# Funciones y parámetros"
   ]
  },
  {
   "cell_type": "code",
   "execution_count": 7,
   "metadata": {},
   "outputs": [],
   "source": [
    "def saludar(nombre): \n",
    "    print(f\"Hola Mundo {nombre}\")"
   ]
  },
  {
   "cell_type": "code",
   "execution_count": 8,
   "metadata": {},
   "outputs": [
    {
     "name": "stdout",
     "output_type": "stream",
     "text": [
      "Hola Mundo Juan\n"
     ]
    }
   ],
   "source": [
    "saludar(\"Juan\")"
   ]
  },
  {
   "cell_type": "code",
   "execution_count": 12,
   "metadata": {},
   "outputs": [
    {
     "name": "stdout",
     "output_type": "stream",
     "text": [
      "El resultado de 2 + 2 = 4\n"
     ]
    }
   ],
   "source": [
    "def sumar(sumador1, sumador2): \n",
    "    print(f\"El resultado de {sumador1} + {sumador2} = {sumador1+sumador2}\")\n",
    "\n",
    "sumar(2, 2)"
   ]
  },
  {
   "cell_type": "code",
   "execution_count": 19,
   "metadata": {},
   "outputs": [
    {
     "name": "stdout",
     "output_type": "stream",
     "text": [
      "Nombre: , edad: 35\n"
     ]
    }
   ],
   "source": [
    "def presentar(nombre=\"Juan\", edad=35):\n",
    "    print(f\"Nombre: {nombre}, edad: {edad}\")\n",
    "\n",
    "presentar(35)"
   ]
  },
  {
   "cell_type": "code",
   "execution_count": 22,
   "metadata": {},
   "outputs": [],
   "source": [
    "def detalle(nombre=\"Pepe\", edad=25, ciudad=\"Barcelona\"):\n",
    "    print(f\"Nombre: {nombre}, Edad: {edad}, ciudad: {ciudad}\")"
   ]
  },
  {
   "cell_type": "code",
   "execution_count": 33,
   "metadata": {},
   "outputs": [
    {
     "name": "stdout",
     "output_type": "stream",
     "text": [
      "Nombre: Pepe, Edad: 50, ciudad: Jaén\n",
      "Nombre: 50, Edad: Jaén, ciudad: Pepe\n",
      "Nombre: Ramón, Edad: 45, ciudad: Madrid\n"
     ]
    }
   ],
   "source": [
    "detalle(\"Pepe\", 50, \"Jaén\")\n",
    "detalle(50, \"Jaén\", \"Pepe\")\n",
    "\n",
    "detalle(\"Ramón\", ciudad=\"Madrid\", edad=45)"
   ]
  },
  {
   "cell_type": "code",
   "execution_count": 37,
   "metadata": {},
   "outputs": [
    {
     "name": "stdout",
     "output_type": "stream",
     "text": [
      "Mis amigos son:\n",
      "Ana\n",
      "Juan\n",
      "Luisa\n",
      "25\n",
      "33.5\n"
     ]
    }
   ],
   "source": [
    "def amigos(*amigos):\n",
    "    print(\"Mis amigos son:\")\n",
    "    for amigo in amigos:\n",
    "        print(amigo)\n",
    "\n",
    "amigos(\"Ana\", \"Juan\", \"Luisa\", 25, 33.5)"
   ]
  },
  {
   "cell_type": "code",
   "execution_count": 42,
   "metadata": {},
   "outputs": [
    {
     "name": "stdout",
     "output_type": "stream",
     "text": [
      "nombre: Luis\n",
      "ciudad: Barcelona\n",
      "edad: 35\n"
     ]
    }
   ],
   "source": [
    "def detalle(**kwargs):\n",
    "        for clave, valor in kwargs.items():\n",
    "                print(f\"{clave}: {valor}\")\n",
    "\n",
    "detalle(nombre=\"Luis\", ciudad=\"Barcelona\", edad=35, )"
   ]
  },
  {
   "cell_type": "code",
   "execution_count": 51,
   "metadata": {},
   "outputs": [
    {
     "name": "stdout",
     "output_type": "stream",
     "text": [
      "Luis Ramirez \n",
      "edad: 23\n",
      "edad: 27\n",
      "edad: 33\n",
      "ciudad: Barcelona\n",
      "nombre: Duplicado\n",
      "cargo: Administrador\n"
     ]
    }
   ],
   "source": [
    "def detalle(Nombre, Apellido,*edades, **kwargs):\n",
    "        print(f\"{Nombre} {Apellido} \")\n",
    "        for edad in edades:\n",
    "                print(f\"edad: {edad}\")\n",
    "        for clave, valor in kwargs.items():\n",
    "                print(f\"{clave}: {valor}\")\n",
    "\n",
    "detalle(\"Luis\", \"Ramirez\", 23, 27, 33, ciudad=\"Barcelona\", nombre=\"Duplicado\", cargo=\"Administrador\" )"
   ]
  },
  {
   "cell_type": "code",
   "execution_count": 56,
   "metadata": {},
   "outputs": [
    {
     "name": "stdout",
     "output_type": "stream",
     "text": [
      "Suma: 8, Resta: 2\n"
     ]
    }
   ],
   "source": [
    "def operaciones(numero1, numero2):\n",
    "    suma = numero1 + numero2\n",
    "    resta = numero1 - numero2\n",
    "    return suma, resta\n",
    "\n",
    "\n",
    "resultado_suma, resultado_resta = operaciones(5, 3)\n",
    "print(f\"Suma: {resultado_suma}, Resta: {resultado_resta}\")"
   ]
  },
  {
   "cell_type": "markdown",
   "metadata": {},
   "source": [
    "## Practicas"
   ]
  },
  {
   "cell_type": "markdown",
   "metadata": {},
   "source": [
    "##### **Calculadora Simple**\n",
    "Descripción: Crea una función llamada calculadora que acepte dos números y una operación (suma, resta, multiplicación, división) como argumentos. La función debe realizar la operación y devolver el resultado."
   ]
  },
  {
   "cell_type": "markdown",
   "metadata": {},
   "source": [
    "##### **Función de Bienvenida**\n",
    "Descripción: Crea una función llamada bienvenida que acepte un nombre y un saludo opcional. Si no se proporciona el saludo, debe utilizar \"Hola\" por defecto."
   ]
  },
  {
   "cell_type": "markdown",
   "metadata": {},
   "source": [
    "##### **Sumar Números Arbitrarios**\n",
    "Descripción: Crea una función llamada sumar_numeros que acepte un número variable de argumentos y devuelva la suma de todos ellos."
   ]
  },
  {
   "cell_type": "markdown",
   "metadata": {},
   "source": [
    "##### **Información Personal**\n",
    "Descripción: Crea una función llamada mostrar_info que acepte un nombre y cualquier cantidad de información adicional sobre una persona usando **kwargs. La función debe imprimir toda la información proporcionada."
   ]
  },
  {
   "cell_type": "markdown",
   "metadata": {},
   "source": [
    "##### **Filtrar Palabras**\n",
    "Descripción: Crea una función llamada filtrar_palabras que acepte una lista de palabras y una longitud mínima. La función debe devolver una lista de palabras que tengan al menos esa longitud."
   ]
  }
 ],
 "metadata": {
  "kernelspec": {
   "display_name": ".venv",
   "language": "python",
   "name": "python3"
  },
  "language_info": {
   "codemirror_mode": {
    "name": "ipython",
    "version": 3
   },
   "file_extension": ".py",
   "mimetype": "text/x-python",
   "name": "python",
   "nbconvert_exporter": "python",
   "pygments_lexer": "ipython3",
   "version": "3.12.1"
  }
 },
 "nbformat": 4,
 "nbformat_minor": 2
}
