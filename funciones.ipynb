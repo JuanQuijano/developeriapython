{
 "cells": [
  {
   "cell_type": "markdown",
   "metadata": {},
   "source": [
    "# Funciones y parámetros"
   ]
  },
  {
   "cell_type": "code",
   "execution_count": 7,
   "metadata": {},
   "outputs": [],
   "source": [
    "def saludar(nombre): \n",
    "    print(f\"Hola Mundo {nombre}\")"
   ]
  },
  {
   "cell_type": "code",
   "execution_count": 8,
   "metadata": {},
   "outputs": [
    {
     "name": "stdout",
     "output_type": "stream",
     "text": [
      "Hola Mundo Juan\n"
     ]
    }
   ],
   "source": [
    "saludar(\"Juan\")"
   ]
  },
  {
   "cell_type": "code",
   "execution_count": 12,
   "metadata": {},
   "outputs": [
    {
     "name": "stdout",
     "output_type": "stream",
     "text": [
      "El resultado de 2 + 2 = 4\n"
     ]
    }
   ],
   "source": [
    "def sumar(sumador1, sumador2): \n",
    "    print(f\"El resultado de {sumador1} + {sumador2} = {sumador1+sumador2}\")\n",
    "\n",
    "sumar(2, 2)"
   ]
  },
  {
   "cell_type": "code",
   "execution_count": 19,
   "metadata": {},
   "outputs": [
    {
     "name": "stdout",
     "output_type": "stream",
     "text": [
      "Nombre: , edad: 35\n"
     ]
    }
   ],
   "source": [
    "def presentar(nombre=\"Juan\", edad=35):\n",
    "    print(f\"Nombre: {nombre}, edad: {edad}\")\n",
    "\n",
    "presentar(35)"
   ]
  },
  {
   "cell_type": "code",
   "execution_count": 22,
   "metadata": {},
   "outputs": [],
   "source": [
    "def detalle(nombre=\"Pepe\", edad=25, ciudad=\"Barcelona\"):\n",
    "    print(f\"Nombre: {nombre}, Edad: {edad}, ciudad: {ciudad}\")"
   ]
  },
  {
   "cell_type": "code",
   "execution_count": 33,
   "metadata": {},
   "outputs": [
    {
     "name": "stdout",
     "output_type": "stream",
     "text": [
      "Nombre: Pepe, Edad: 50, ciudad: Jaén\n",
      "Nombre: 50, Edad: Jaén, ciudad: Pepe\n",
      "Nombre: Ramón, Edad: 45, ciudad: Madrid\n"
     ]
    }
   ],
   "source": [
    "detalle(\"Pepe\", 50, \"Jaén\")\n",
    "detalle(50, \"Jaén\", \"Pepe\")\n",
    "\n",
    "detalle(\"Ramón\", ciudad=\"Madrid\", edad=45)"
   ]
  },
  {
   "cell_type": "code",
   "execution_count": 37,
   "metadata": {},
   "outputs": [
    {
     "name": "stdout",
     "output_type": "stream",
     "text": [
      "Mis amigos son:\n",
      "Ana\n",
      "Juan\n",
      "Luisa\n",
      "25\n",
      "33.5\n"
     ]
    }
   ],
   "source": [
    "def amigos(*amigos):\n",
    "    print(\"Mis amigos son:\")\n",
    "    for amigo in amigos:\n",
    "        print(amigo)\n",
    "\n",
    "amigos(\"Ana\", \"Juan\", \"Luisa\", 25, 33.5)"
   ]
  },
  {
   "cell_type": "code",
   "execution_count": 42,
   "metadata": {},
   "outputs": [
    {
     "name": "stdout",
     "output_type": "stream",
     "text": [
      "nombre: Luis\n",
      "ciudad: Barcelona\n",
      "edad: 35\n"
     ]
    }
   ],
   "source": [
    "def detalle(**kwargs):\n",
    "        for clave, valor in kwargs.items():\n",
    "                print(f\"{clave}: {valor}\")\n",
    "\n",
    "detalle(nombre=\"Luis\", ciudad=\"Barcelona\", edad=35, )"
   ]
  },
  {
   "cell_type": "code",
   "execution_count": 51,
   "metadata": {},
   "outputs": [
    {
     "name": "stdout",
     "output_type": "stream",
     "text": [
      "Luis Ramirez \n",
      "edad: 23\n",
      "edad: 27\n",
      "edad: 33\n",
      "ciudad: Barcelona\n",
      "nombre: Duplicado\n",
      "cargo: Administrador\n"
     ]
    }
   ],
   "source": [
    "def detalle(Nombre, Apellido,*edades, **kwargs):\n",
    "        print(f\"{Nombre} {Apellido} \")\n",
    "        for edad in edades:\n",
    "                print(f\"edad: {edad}\")\n",
    "        for clave, valor in kwargs.items():\n",
    "                print(f\"{clave}: {valor}\")\n",
    "\n",
    "detalle(\"Luis\", \"Ramirez\", 23, 27, 33, ciudad=\"Barcelona\", nombre=\"Duplicado\", cargo=\"Administrador\" )"
   ]
  },
  {
   "cell_type": "code",
   "execution_count": 56,
   "metadata": {},
   "outputs": [
    {
     "name": "stdout",
     "output_type": "stream",
     "text": [
      "Suma: 8, Resta: 2\n"
     ]
    }
   ],
   "source": [
    "def operaciones(numero1, numero2):\n",
    "    suma = numero1 + numero2\n",
    "    resta = numero1 - numero2\n",
    "    return suma, resta\n",
    "\n",
    "\n",
    "resultado_suma, resultado_resta = operaciones(5, 3)\n",
    "print(f\"Suma: {resultado_suma}, Resta: {resultado_resta}\")"
   ]
  },
  {
   "cell_type": "markdown",
   "metadata": {},
   "source": [
    "## Practicas"
   ]
  },
  {
   "cell_type": "markdown",
   "metadata": {},
   "source": [
    "##### **Calculadora Simple**\n",
    "Descripción: Crea una función llamada calculadora que acepte dos números y una operación (suma, resta, multiplicación, división) como argumentos. La función debe realizar la operación y devolver el resultado."
   ]
  },
  {
   "cell_type": "code",
   "execution_count": 1,
   "metadata": {},
   "outputs": [],
   "source": [
    "def calculadora(num1, operacion, num2):\n",
    "    resultado = 0\n",
    "    if operacion == \"+\":\n",
    "        resultado = num1 + num2\n",
    "    elif operacion == \"-\":\n",
    "        resultado = num1 - num2\n",
    "    elif operacion == \"*\":\n",
    "        resultado = num1*num2\n",
    "    elif operacion == \"/\":\n",
    "        resultado = num1/num2\n",
    "    else:\n",
    "        resultado = \"No es una operación válida\"\n",
    "    return resultado"
   ]
  },
  {
   "cell_type": "code",
   "execution_count": 5,
   "metadata": {},
   "outputs": [
    {
     "name": "stdout",
     "output_type": "stream",
     "text": [
      "4\n",
      "0\n",
      "4\n",
      "1.0\n",
      "No es una operación válida\n"
     ]
    }
   ],
   "source": [
    "print(calculadora(2, \"+\", 2))\n",
    "print(calculadora(2, \"-\", 2))\n",
    "print(calculadora(2, \"*\", 2))\n",
    "print(calculadora(2, \"/\", 2))\n",
    "print(calculadora(2, \"a\", 2))"
   ]
  },
  {
   "cell_type": "markdown",
   "metadata": {},
   "source": [
    "##### **Función de Bienvenida**\n",
    "Descripción: Crea una función llamada bienvenida que acepte un nombre y un saludo opcional. Si no se proporciona el saludo, debe utilizar \"Hola\" por defecto."
   ]
  },
  {
   "cell_type": "code",
   "execution_count": 7,
   "metadata": {},
   "outputs": [],
   "source": [
    "def saluda(Nombre,Saludo=\"Hola\"):\n",
    "    saludo = f\"{Saludo} {Nombre}\"\n",
    "    return saludo"
   ]
  },
  {
   "cell_type": "code",
   "execution_count": 9,
   "metadata": {},
   "outputs": [
    {
     "name": "stdout",
     "output_type": "stream",
     "text": [
      "Hola Juan\n",
      "Qué tal estas, Pepe\n"
     ]
    }
   ],
   "source": [
    "print(saluda(\"Juan\"))\n",
    "print(saluda(\"Pepe\", \"Qué tal estas,\"))"
   ]
  },
  {
   "cell_type": "markdown",
   "metadata": {},
   "source": [
    "##### **Sumar Números Arbitrarios**\n",
    "Descripción: Crea una función llamada sumar_numeros que acepte un número variable de argumentos y devuelva la suma de todos ellos."
   ]
  },
  {
   "cell_type": "code",
   "execution_count": 10,
   "metadata": {},
   "outputs": [],
   "source": [
    "def suma_numeros(*numeros):\n",
    "    suma = 0\n",
    "    for numero in numeros:\n",
    "        suma += numero\n",
    "    return suma"
   ]
  },
  {
   "cell_type": "code",
   "execution_count": 12,
   "metadata": {},
   "outputs": [
    {
     "data": {
      "text/plain": [
       "255"
      ]
     },
     "execution_count": 12,
     "metadata": {},
     "output_type": "execute_result"
    }
   ],
   "source": [
    "suma_numeros(1, 2, 3, 4, 5, 6, 7, 8, 9, 10, 200)"
   ]
  },
  {
   "cell_type": "markdown",
   "metadata": {},
   "source": [
    "##### **Información Personal**\n",
    "Descripción: Crea una función llamada mostrar_info que acepte un nombre y cualquier cantidad de información adicional sobre una persona usando **kwargs. La función debe imprimir toda la información proporcionada."
   ]
  },
  {
   "cell_type": "code",
   "execution_count": 19,
   "metadata": {},
   "outputs": [],
   "source": [
    "def mostrar_info(Nombre, **informacion_personal):\n",
    "    respuesta = f\"Nombre: {Nombre}\"\n",
    "    for clave, valor in informacion_personal.items():\n",
    "        respuesta += f\", {clave}: {valor}\"\n",
    "    return respuesta"
   ]
  },
  {
   "cell_type": "code",
   "execution_count": 20,
   "metadata": {},
   "outputs": [
    {
     "name": "stdout",
     "output_type": "stream",
     "text": [
      "Nombre: Pepe, Edad: 45, Peso: 35.7, Altura: 1.75, ColorOjos: Verdes\n"
     ]
    }
   ],
   "source": [
    "print(mostrar_info(\"Pepe\", Edad=45, Peso=35.7, Altura=1.75, ColorOjos=\"Verdes\"))"
   ]
  },
  {
   "cell_type": "markdown",
   "metadata": {},
   "source": [
    "##### **Filtrar Palabras**\n",
    "Descripción: Crea una función llamada filtrar_palabras que acepte una lista de palabras y una longitud mínima. La función debe devolver una lista de palabras que tengan al menos esa longitud."
   ]
  },
  {
   "cell_type": "code",
   "execution_count": 21,
   "metadata": {},
   "outputs": [],
   "source": [
    "def filtrar_palabras(longitud, *palabras):\n",
    "    resultado = []\n",
    "    for palabra in palabras:\n",
    "        if len(palabra) >= longitud:\n",
    "            resultado.append(palabra)\n",
    "    return resultado"
   ]
  },
  {
   "cell_type": "code",
   "execution_count": 27,
   "metadata": {},
   "outputs": [
    {
     "name": "stdout",
     "output_type": "stream",
     "text": [
      "['perfecto', 'otrapalabra', 'estoes cinco', 'tres']\n"
     ]
    }
   ],
   "source": [
    "print(filtrar_palabras(4, \"perfecto\", \"uno\", \"otrapalabra\", \"estoes cinco\", \"tres\"))"
   ]
  },
  {
   "cell_type": "markdown",
   "metadata": {},
   "source": [
    "### Reto Final: Sistema de Gestión de Tareas  \n",
    "   \n",
    "**Descripción**: Crea un sistema simple de gestión de tareas que permita al usuario agregar, listar, y eliminar tareas. Cada tarea debe tener un título, una descripción opcional, una prioridad, y un estado (pendiente o completada).  \n",
    "   \n",
    "**Instrucciones**:  \n",
    "   \n",
    "1. Define una función `agregar_tarea(tareas, **kwargs)` que reciba una lista de tareas y cualquier número de argumentos con nombre para crear una nueva tarea. Cada tarea debe ser un diccionario con las claves `título`, `descripción`, `prioridad` y `estado`.  \n",
    "   \n",
    "2. Define una función `listar_tareas(tareas)` que imprima todas las tareas con su información.  \n",
    "   \n",
    "3. Define una función `eliminar_tarea(tareas, titulo)` que elimine una tarea por su título.  \n",
    "   \n",
    "4. Implementa un menú simple que permita al usuario elegir entre las opciones de agregar, listar, y eliminar tareas.  \n",
    "   \n",
    "5. Maneja posibles errores, como intentar eliminar una tarea que no existe.  \n",
    "   \n",
    "6. Al final, el programa debe poder gestionar múltiples tareas utilizando los conceptos aprendidos en el curso.\n",
    "\n",
    "#### Contra reto: Un pasito más allá\n",
    "\n",
    "1. Añadirle el poder modificar una tarea ya existente\n",
    "\n",
    "2. Persistir las tareas en un fichero csv"
   ]
  }
 ],
 "metadata": {
  "kernelspec": {
   "display_name": ".venv",
   "language": "python",
   "name": "python3"
  },
  "language_info": {
   "codemirror_mode": {
    "name": "ipython",
    "version": 3
   },
   "file_extension": ".py",
   "mimetype": "text/x-python",
   "name": "python",
   "nbconvert_exporter": "python",
   "pygments_lexer": "ipython3",
   "version": "3.12.1"
  }
 },
 "nbformat": 4,
 "nbformat_minor": 2
}
