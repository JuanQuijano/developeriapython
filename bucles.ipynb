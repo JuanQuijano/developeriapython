{
 "cells": [
  {
   "cell_type": "markdown",
   "metadata": {},
   "source": [
    "# Bucles\n"
   ]
  },
  {
   "cell_type": "markdown",
   "metadata": {},
   "source": [
    "### While"
   ]
  },
  {
   "cell_type": "code",
   "execution_count": 32,
   "metadata": {},
   "outputs": [
    {
     "name": "stdout",
     "output_type": "stream",
     "text": [
      "La fruta escogida es manzana\n",
      "La fruta escogida es banana\n",
      "La fruta escogida es cereza\n"
     ]
    }
   ],
   "source": [
    "frutas = [\"manzana\", \"banana\", \"cereza\", \"naranja\", \"limon\"]   \n",
    "#frutas = [\"manzana\", \"banana\"]   \n",
    "\n",
    "contador = 0\n",
    "\n",
    "while contador < 3:\n",
    "    print(f\"La fruta escogida es {frutas[contador]}\")\n",
    "    contador += 1"
   ]
  },
  {
   "cell_type": "markdown",
   "metadata": {},
   "source": [
    "#### For"
   ]
  },
  {
   "cell_type": "code",
   "execution_count": 33,
   "metadata": {},
   "outputs": [
    {
     "name": "stdout",
     "output_type": "stream",
     "text": [
      "La fruta escogida es manzana\n",
      "La fruta escogida es banana\n",
      "La fruta escogida es cereza\n",
      "La fruta escogida es naranja\n",
      "La fruta escogida es limon\n"
     ]
    }
   ],
   "source": [
    "for fruta in frutas:\n",
    "    print(f\"La fruta escogida es {fruta}\")"
   ]
  },
  {
   "cell_type": "code",
   "execution_count": 34,
   "metadata": {},
   "outputs": [
    {
     "name": "stdout",
     "output_type": "stream",
     "text": [
      "La fruta escogida es limon\n",
      "La fruta escogida es cereza\n",
      "La fruta escogida es manzana\n"
     ]
    }
   ],
   "source": [
    "for indice in range(4,-1,-2):\n",
    "    print(f\"La fruta escogida es {frutas[indice]}\")"
   ]
  },
  {
   "cell_type": "markdown",
   "metadata": {},
   "source": [
    "### break, continue"
   ]
  },
  {
   "cell_type": "code",
   "execution_count": 45,
   "metadata": {},
   "outputs": [
    {
     "name": "stdout",
     "output_type": "stream",
     "text": [
      "1\n",
      "2\n"
     ]
    }
   ],
   "source": [
    "for i in range(1, 10):  \n",
    "    if i == 3:  \n",
    "        break  \n",
    "    print(i)  "
   ]
  },
  {
   "cell_type": "code",
   "execution_count": 46,
   "metadata": {},
   "outputs": [
    {
     "name": "stdout",
     "output_type": "stream",
     "text": [
      "2\n",
      "4\n",
      "6\n",
      "8\n"
     ]
    }
   ],
   "source": [
    "for i in range(1, 10):\n",
    "        if i % 2 != 0:\n",
    "                continue\n",
    "        print(i)  "
   ]
  },
  {
   "cell_type": "code",
   "execution_count": 37,
   "metadata": {},
   "outputs": [
    {
     "name": "stdout",
     "output_type": "stream",
     "text": [
      "La fruta escogida es manzana\n",
      "La fruta escogida es banana\n",
      "La fruta escogida es cereza\n"
     ]
    }
   ],
   "source": [
    "contador = 0\n",
    "\n",
    "while contador < 5:\n",
    "    print(f\"La fruta escogida es {frutas[contador]}\")\n",
    "    if frutas[contador] == \"cereza\":\n",
    "        break\n",
    "    contador += 1"
   ]
  },
  {
   "cell_type": "markdown",
   "metadata": {},
   "source": [
    "### Bucles con diccionarios"
   ]
  },
  {
   "cell_type": "code",
   "execution_count": 48,
   "metadata": {},
   "outputs": [
    {
     "name": "stdout",
     "output_type": "stream",
     "text": [
      "Alice tiene 25 años.\n",
      "Pedro tiene 47 años.\n",
      "Bea tiene 32 años.\n"
     ]
    }
   ],
   "source": [
    "contactos = {\"Alice\":25, \"Pedro\": 47, \"Bea\": 32}\n",
    "for Nombre, Años in contactos.items():\n",
    "    print (f\"{Nombre} tiene {Años} años\")"
   ]
  },
  {
   "cell_type": "markdown",
   "metadata": {},
   "source": [
    "### El uso de else"
   ]
  },
  {
   "cell_type": "code",
   "execution_count": 54,
   "metadata": {},
   "outputs": [
    {
     "name": "stdout",
     "output_type": "stream",
     "text": [
      "La fruta escogida es manzana\n",
      "La fruta escogida es banana\n",
      "La fruta escogida es cereza\n",
      "La fruta escogida es naranja\n",
      "La fruta escogida es limon\n",
      "El bucle ha terminado\n"
     ]
    }
   ],
   "source": [
    "contador = 0\n",
    "\n",
    "while contador < 5:\n",
    "    print(f\"La fruta escogida es {frutas[contador]}\")\n",
    "    if frutas[contador] == \"papaya\":\n",
    "        print(\"He encontrado una fruta no válida\")\n",
    "        break\n",
    "    contador += 1\n",
    "else:\n",
    "    print(\"El bucle ha terminado\")"
   ]
  },
  {
   "cell_type": "code",
   "execution_count": 57,
   "metadata": {},
   "outputs": [
    {
     "name": "stdout",
     "output_type": "stream",
     "text": [
      "1\n",
      "2\n",
      "3\n",
      "4\n",
      "5\n",
      "6\n",
      "7\n",
      "8\n",
      "9\n",
      "Hemos llegado al final del bucle For\n"
     ]
    }
   ],
   "source": [
    "for i in range(1, 10):  \n",
    "    if i == 15:\n",
    "        print(\"Hemos encontrado una anomalía\") \n",
    "        break  \n",
    "    print(i)\n",
    "else:\n",
    "    print(\"Hemos llegado al final del bucle For\")"
   ]
  },
  {
   "cell_type": "code",
   "execution_count": null,
   "metadata": {},
   "outputs": [],
   "source": [
    "frutas = [\"manzana\", \"banana\", \"cereza\", \"naranja\", \"limon\"]\n",
    "precios = [1.2, 2.5, 3, 0.5,1.76]\n",
    "\n",
    "for fruta in frutas:\n",
    "    for precio in precios:\n",
    "        print(f\"{fruta} tiene un precio de: {precio} por kilo\")"
   ]
  },
  {
   "cell_type": "markdown",
   "metadata": {},
   "source": [
    "**Suma de Números**: Escribe un programa que calcule la suma de los primeros 10 números naturales utilizando un bucle for."
   ]
  },
  {
   "cell_type": "code",
   "execution_count": 6,
   "metadata": {},
   "outputs": [
    {
     "name": "stdout",
     "output_type": "stream",
     "text": [
      "0 + 1\n",
      "1 + 2\n",
      "3 + 3\n",
      "6 + 4\n",
      "10 + 5\n",
      "15 + 6\n",
      "21 + 7\n",
      "28 + 8\n",
      "36 + 9\n",
      "45 + 10\n",
      "55\n"
     ]
    }
   ],
   "source": [
    "resultado = 0\n",
    "for i in range(1, 11):\n",
    "    print(f\"{resultado} + {i}\")\n",
    "    resultado = resultado + i\n",
    "print(resultado)"
   ]
  },
  {
   "cell_type": "markdown",
   "metadata": {},
   "source": [
    "**Tabla de Multiplicar:**\n",
    "Escribe un programa que imprima la tabla de multiplicar de un número dado utilizando un bucle while."
   ]
  },
  {
   "cell_type": "code",
   "execution_count": 12,
   "metadata": {},
   "outputs": [
    {
     "name": "stdout",
     "output_type": "stream",
     "text": [
      "5\n",
      "10\n",
      "15\n",
      "20\n",
      "25\n",
      "30\n",
      "35\n",
      "40\n",
      "45\n",
      "50\n"
     ]
    }
   ],
   "source": [
    "numero = int(input(\"Introduce un número entre 1 y 9: \"))\n",
    "multiplicador = 1\n",
    "\n",
    "while multiplicador < 11:\n",
    "    print(numero * multiplicador)\n",
    "    multiplicador += 1\n"
   ]
  },
  {
   "cell_type": "markdown",
   "metadata": {},
   "source": [
    "**Contar Vocales:** Escribe un programa que cuente el número de vocales en una cadena de texto utilizando un bucle for."
   ]
  },
  {
   "cell_type": "code",
   "execution_count": 13,
   "metadata": {},
   "outputs": [
    {
     "name": "stdout",
     "output_type": "stream",
     "text": [
      "El número total de caracteres es: 23\n"
     ]
    }
   ],
   "source": [
    "texto = input(\"Introduce una cadena de texto: \")\n",
    "numDeCaracteres = 0\n",
    "for letra in texto:\n",
    "    numDeCaracteres += 1\n",
    "\n",
    "print (f\"El número total de caracteres es: {numDeCaracteres}\")\n"
   ]
  },
  {
   "cell_type": "markdown",
   "metadata": {},
   "source": [
    "**Encontrar el Máximo en una Lista:** Escribe un programa que encuentre el número máximo en una lista de números utilizando un bucle for."
   ]
  },
  {
   "cell_type": "code",
   "execution_count": 19,
   "metadata": {},
   "outputs": [
    {
     "name": "stdout",
     "output_type": "stream",
     "text": [
      "11\n"
     ]
    }
   ],
   "source": [
    "numeros = [3, 7, 2, 8, 5, 10, 6, 9, 3, 11, 7, 9, 2]  \n",
    "numMax = numeros[0]\n",
    "\n",
    "for numero in numeros:\n",
    "    if numero > numMax:\n",
    "        numMax = numero\n",
    "\n",
    "print(numMax)"
   ]
  },
  {
   "cell_type": "markdown",
   "metadata": {},
   "source": [
    "**Imprimir un Patrón:** Escribe un programa que imprima el siguiente patrón utilizando bucles anidados:\n",
    "```  \n",
    "*\n",
    "**\n",
    "***\n",
    "****\n",
    "*****\n",
    "```  "
   ]
  },
  {
   "cell_type": "code",
   "execution_count": 23,
   "metadata": {},
   "outputs": [
    {
     "name": "stdout",
     "output_type": "stream",
     "text": [
      "*\n",
      "**\n",
      "***\n",
      "****\n",
      "*****\n"
     ]
    }
   ],
   "source": [
    "for i in range(1, 6):\n",
    "    for j in range(i):\n",
    "        print(\"*\", end=\"\")\n",
    "    print()"
   ]
  },
  {
   "cell_type": "markdown",
   "metadata": {},
   "source": [
    " ### Reto: Juego de Adivinanza de Números  \n",
    "   \n",
    "**Descripción:**  \n",
    "El objetivo de este juego es que el usuario adivine un número secreto generado aleatoriamente por el programa. El juego le dará pistas al usuario indicando si su suposición es demasiado alta o demasiado baja. El juego termina cuando el usuario adivina el número o decide rendirse.  \n",
    "   \n",
    "**Instrucciones:**  \n",
    "   \n",
    "1. El programa debe generar un número secreto aleatorio entre 1 y 100.  \n",
    "2. El usuario debe tener un número limitado de intentos para adivinar el número.  \n",
    "3. Después de cada intento, el programa debe indicar si el número ingresado por el usuario es mayor o menor que el número secreto.  \n",
    "4. Si el usuario adivina el número, el programa debe felicitarlo y mostrar cuántos intentos tomó.  \n",
    "5. El usuario puede rendirse en cualquier momento ingresando un valor específico (por ejemplo, \"0\").  \n",
    "6. Si el usuario se rinde o agota sus intentos, el programa debe revelar el número secreto.  \n",
    "   \n",
    "**Pistas:**  \n",
    "- Usa la biblioteca `random` para generar el número aleatorio.  \n",
    "- Utiliza un bucle `while` para permitir múltiples intentos.  \n",
    "- Usa variables para contar el número de intentos.  \n",
    "- Utiliza condicionales para verificar las suposiciones del usuario y proporcionar retroalimentación.  \n",
    "- Usa una lista para almacenar los intentos del usuario (opcional, pero puede ser útil para mostrar un historial de intentos).  \n",
    "   \n"
   ]
  }
 ],
 "metadata": {
  "kernelspec": {
   "display_name": ".venv",
   "language": "python",
   "name": "python3"
  },
  "language_info": {
   "codemirror_mode": {
    "name": "ipython",
    "version": 3
   },
   "file_extension": ".py",
   "mimetype": "text/x-python",
   "name": "python",
   "nbconvert_exporter": "python",
   "pygments_lexer": "ipython3",
   "version": "3.12.1"
  }
 },
 "nbformat": 4,
 "nbformat_minor": 2
}
