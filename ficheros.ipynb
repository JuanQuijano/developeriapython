{
 "cells": [
  {
   "cell_type": "markdown",
   "metadata": {},
   "source": [
    "# Gestión de ficheros"
   ]
  },
  {
   "cell_type": "code",
   "execution_count": 11,
   "metadata": {},
   "outputs": [],
   "source": [
    "from pathlib import Path\n",
    "ruta = Path('archivo.txt')  \n",
    "\n",
    "file = open(ruta, 'r')\n",
    "file.close()"
   ]
  },
  {
   "cell_type": "code",
   "execution_count": 15,
   "metadata": {},
   "outputs": [
    {
     "name": "stdout",
     "output_type": "stream",
     "text": [
      "Hola Mundo\n",
      "Hola Mundo de nuevo\n"
     ]
    }
   ],
   "source": [
    "with open(ruta, 'r') as file:\n",
    "    contenido = file.read()\n",
    "    print(contenido)"
   ]
  },
  {
   "cell_type": "code",
   "execution_count": 16,
   "metadata": {},
   "outputs": [
    {
     "name": "stdout",
     "output_type": "stream",
     "text": [
      "Hola Mundo\n",
      "Hola Mundo de nuevo"
     ]
    }
   ],
   "source": [
    "with open(ruta, 'r') as file:\n",
    "    for linea in file:\n",
    "        print(linea, end=\"\")"
   ]
  },
  {
   "cell_type": "code",
   "execution_count": 29,
   "metadata": {},
   "outputs": [],
   "source": [
    "with open(ruta, 'w') as file:\n",
    "    file.write(\"Esta es una prueba de escritura\\n\")"
   ]
  },
  {
   "cell_type": "code",
   "execution_count": 30,
   "metadata": {},
   "outputs": [],
   "source": [
    "with open(\"borrame.txt\", 'a') as file:\n",
    "    file.write(\"Esta vez me añade una nueva fila\\n\")"
   ]
  },
  {
   "cell_type": "code",
   "execution_count": 35,
   "metadata": {},
   "outputs": [],
   "source": [
    "import os\n",
    "if os.path.isfile(\"borrame.*\"):\n",
    "    os.remove(\"borrame.*\")\n",
    "    print(\"He borrado \")\n",
    "else:\n",
    "    with open(\"borrame.txt\", 'w') as file:\n",
    "        file.write(\"\")"
   ]
  },
  {
   "cell_type": "code",
   "execution_count": 36,
   "metadata": {},
   "outputs": [],
   "source": [
    "rutaFicheroParaBorrar = Path(\"borrame.txt\")\n",
    "rutaFicheroParaBorrar.unlink()\n"
   ]
  },
  {
   "cell_type": "markdown",
   "metadata": {},
   "source": [
    "## Utilizar CSV"
   ]
  },
  {
   "cell_type": "code",
   "execution_count": 44,
   "metadata": {},
   "outputs": [
    {
     "ename": "FileNotFoundError",
     "evalue": "[Errno 2] No such file or directory: 'agenda.csa'",
     "output_type": "error",
     "traceback": [
      "\u001b[0;31m---------------------------------------------------------------------------\u001b[0m",
      "\u001b[0;31mFileNotFoundError\u001b[0m                         Traceback (most recent call last)",
      "Cell \u001b[0;32mIn[44], line 3\u001b[0m\n\u001b[1;32m      1\u001b[0m \u001b[38;5;28;01mimport\u001b[39;00m\u001b[38;5;250m \u001b[39m\u001b[38;5;21;01mcsv\u001b[39;00m\n\u001b[0;32m----> 3\u001b[0m \u001b[38;5;28;01mwith\u001b[39;00m \u001b[38;5;28;43mopen\u001b[39;49m\u001b[43m(\u001b[49m\u001b[38;5;124;43m\"\u001b[39;49m\u001b[38;5;124;43magenda.csa\u001b[39;49m\u001b[38;5;124;43m\"\u001b[39;49m\u001b[43m,\u001b[49m\u001b[43m \u001b[49m\u001b[38;5;124;43m\"\u001b[39;49m\u001b[38;5;124;43mr\u001b[39;49m\u001b[38;5;124;43m\"\u001b[39;49m\u001b[43m)\u001b[49m \u001b[38;5;28;01mas\u001b[39;00m csvFile:\n\u001b[1;32m      4\u001b[0m     reader \u001b[38;5;241m=\u001b[39m csv\u001b[38;5;241m.\u001b[39mreader(csvFile)\n\u001b[1;32m      5\u001b[0m     \u001b[38;5;28;01mfor\u001b[39;00m fila \u001b[38;5;129;01min\u001b[39;00m reader:\n",
      "File \u001b[0;32m/workspaces/developeriapython/.venv/lib/python3.12/site-packages/IPython/core/interactiveshell.py:324\u001b[0m, in \u001b[0;36m_modified_open\u001b[0;34m(file, *args, **kwargs)\u001b[0m\n\u001b[1;32m    317\u001b[0m \u001b[38;5;28;01mif\u001b[39;00m file \u001b[38;5;129;01min\u001b[39;00m {\u001b[38;5;241m0\u001b[39m, \u001b[38;5;241m1\u001b[39m, \u001b[38;5;241m2\u001b[39m}:\n\u001b[1;32m    318\u001b[0m     \u001b[38;5;28;01mraise\u001b[39;00m \u001b[38;5;167;01mValueError\u001b[39;00m(\n\u001b[1;32m    319\u001b[0m         \u001b[38;5;124mf\u001b[39m\u001b[38;5;124m\"\u001b[39m\u001b[38;5;124mIPython won\u001b[39m\u001b[38;5;124m'\u001b[39m\u001b[38;5;124mt let you open fd=\u001b[39m\u001b[38;5;132;01m{\u001b[39;00mfile\u001b[38;5;132;01m}\u001b[39;00m\u001b[38;5;124m by default \u001b[39m\u001b[38;5;124m\"\u001b[39m\n\u001b[1;32m    320\u001b[0m         \u001b[38;5;124m\"\u001b[39m\u001b[38;5;124mas it is likely to crash IPython. If you know what you are doing, \u001b[39m\u001b[38;5;124m\"\u001b[39m\n\u001b[1;32m    321\u001b[0m         \u001b[38;5;124m\"\u001b[39m\u001b[38;5;124myou can use builtins\u001b[39m\u001b[38;5;124m'\u001b[39m\u001b[38;5;124m open.\u001b[39m\u001b[38;5;124m\"\u001b[39m\n\u001b[1;32m    322\u001b[0m     )\n\u001b[0;32m--> 324\u001b[0m \u001b[38;5;28;01mreturn\u001b[39;00m \u001b[43mio_open\u001b[49m\u001b[43m(\u001b[49m\u001b[43mfile\u001b[49m\u001b[43m,\u001b[49m\u001b[43m \u001b[49m\u001b[38;5;241;43m*\u001b[39;49m\u001b[43margs\u001b[49m\u001b[43m,\u001b[49m\u001b[43m \u001b[49m\u001b[38;5;241;43m*\u001b[39;49m\u001b[38;5;241;43m*\u001b[39;49m\u001b[43mkwargs\u001b[49m\u001b[43m)\u001b[49m\n",
      "\u001b[0;31mFileNotFoundError\u001b[0m: [Errno 2] No such file or directory: 'agenda.csa'"
     ]
    }
   ],
   "source": [
    "import csv\n",
    "\n",
    "with open(\"agenda.csa\", \"r\") as csvFile:\n",
    "    reader = csv.reader(csvFile)\n",
    "    for fila in reader:\n",
    "        print(fila)\n"
   ]
  },
  {
   "cell_type": "code",
   "execution_count": 40,
   "metadata": {},
   "outputs": [],
   "source": [
    "with open(\"agenda.csv\", \"w\", newline=\"\") as csvFile:\n",
    "    writer = csv.writer(csvFile)\n",
    "    writer.writerow([\"Ramón\", \"El del Camión\", 56, \"Cáceres\"])\n",
    "    writer.writerow([\"María\", \"Perez\", 71, \"Bilbao\"])\n"
   ]
  },
  {
   "cell_type": "code",
   "execution_count": 42,
   "metadata": {},
   "outputs": [],
   "source": [
    "nuevasFilas=[[\"Ana\", \"Ramirez\", 24, \"Sevilla\"], \n",
    "             [\"Johan\", \"Bach\", 178, \"Munich\"]]\n",
    "\n",
    "with open(\"agenda.csa\", \"a\", newline=\"\") as csvFile:\n",
    "    writer = csv.writer(csvFile)\n",
    "    writer.writerows(nuevasFilas)"
   ]
  },
  {
   "cell_type": "markdown",
   "metadata": {},
   "source": [
    "## El uso de Try-Exception\n",
    "Gestión de escepciones"
   ]
  },
  {
   "cell_type": "code",
   "execution_count": 47,
   "metadata": {},
   "outputs": [
    {
     "name": "stdout",
     "output_type": "stream",
     "text": [
      "No se ha encontrado el fichero\n"
     ]
    }
   ],
   "source": [
    "try:\n",
    "    with open(\"noexiste\", 'r') as file:\n",
    "        contenido = file.read()\n",
    "        print(contenido)\n",
    "except FileNotFoundError:\n",
    "    print(\"No se ha encontrado el fichero\")"
   ]
  },
  {
   "cell_type": "code",
   "execution_count": null,
   "metadata": {},
   "outputs": [],
   "source": [
    "\n",
    "dividendo = [1, 2, 3, 4]\n",
    "divisor = int(input(\"Divisor: \"))\n",
    "\n",
    "for i in range(1, 12): \n",
    "    try:\n",
    "        resultado = dividendo[7]/divisor\n",
    "    #except ZeroDivisionError:\n",
    "    #    print(\"No se puede dividir entre 0\")\n",
    "    #except IndexError:\n",
    "    #    print(\"No existe la posición buscada\")\n",
    "    except Exception as e:\n",
    "        print(f\"Ha saltado el error de: {e}\")\n",
    "    else: \n",
    "        print(resultado)\n",
    "    finally:\n",
    "        print(\"Ejemplo de try-exception-finally\")\n",
    "        "
   ]
  },
  {
   "cell_type": "code",
   "execution_count": 7,
   "metadata": {},
   "outputs": [],
   "source": [
    "try:\n",
    "    with open(\"noexiste\", 'r') as file:\n",
    "        contenido = file.read()\n",
    "        print(contenido)\n",
    "except:\n",
    "    True\n"
   ]
  },
  {
   "cell_type": "markdown",
   "metadata": {},
   "source": [
    "### Reto: Gestor de Contactos  \n",
    "Crea un programa que gestione una lista de contactos utilizando un archivo CSV. El programa debe permitir las siguientes operaciones:  \n",
    "1. **Agregar contacto**: Solicita el nombre, la edad y la ciudad y añade el contacto al archivo.  \n",
    "2. **Ver contactos**: Lee y muestra todos los contactos del archivo.  \n",
    "3. **Buscar contacto**: Solicita un nombre y muestra los detalles del contacto si se encuentra en el archivo.  \n",
    "4. **Eliminar contacto**: Solicita un nombre y elimina el contacto del archivo si existe.  \n",
    "   \n",
    "#### Pistas\n",
    "\n",
    "- Utiliza `csv.DictReader` y `csv.DictWriter` para trabajar con archivos CSV utilizando diccionarios, lo cual facilita el manejo de los datos.  \n",
    "- Asegúrate de manejar correctamente los casos en los que el archivo no existe o está vacío.  \n",
    "- Implementa un menú para que el usuario pueda seleccionar las diferentes operaciones.  \n",
    "\n",
    "### Explicación del código\n",
    "\n",
    "1. **Acciones de agregar, ver, buscar y eliminar contactos**:  \n",
    "   - `agregar_contacto`: Solicita al usuario el nombre, la edad y la ciudad del contacto, y luego agrega esta información al archivo CSV utilizando `csv.DictWriter`.  \n",
    "   - `ver_contactos`: Lee y muestra todos los contactos del archivo CSV utilizando `csv.DictReader`. Si el archivo no existe, muestra un mensaje de error.  \n",
    "   - `buscar_contacto`: Solicita al usuario el nombre del contacto que desea buscar y muestra los detalles del contacto si se encuentra en el archivo.  \n",
    "   - `eliminar_contacto`: Solicita al usuario el nombre del contacto que desea eliminar. Si el contacto se encuentra en el archivo, se elimina y se actualiza el archivo CSV.  \n",
    "   \n",
    "2. **Función `main`**:  \n",
    "   - La función `main` proporciona un menú interactivo para que el usuario seleccione las diferentes operaciones (agregar, ver, buscar, eliminar o salir).  \n",
    "   - Utiliza un bucle `while` para mantener el programa en ejecución hasta que el usuario elija salir.  \n",
    "   \n",
    "### Ejercicio Final:  \n",
    "Implementa el programa completo siguiendo la estructura y las funciones proporcionadas. Asegúrate de probar todas las funcionalidades (agregar, ver, buscar y eliminar contactos) para asegurarte de que el programa funciona correctamente.  \n",
    "   \n",
    "#### Recomendaciones:  \n",
    "- Asegúrate de que las operaciones de escritura y lectura en el archivo CSV manejen correctamente los casos en los que el archivo está vacío o no existe.  \n",
    "- Utiliza el manejo de excepciones (`try-except`) para capturar y manejar errores como el archivo no encontrado.  \n",
    "- Valida la entrada del usuario para asegurarte de que los datos ingresados sean correctos y completos.  "
   ]
  }
 ],
 "metadata": {
  "kernelspec": {
   "display_name": ".venv",
   "language": "python",
   "name": "python3"
  },
  "language_info": {
   "codemirror_mode": {
    "name": "ipython",
    "version": 3
   },
   "file_extension": ".py",
   "mimetype": "text/x-python",
   "name": "python",
   "nbconvert_exporter": "python",
   "pygments_lexer": "ipython3",
   "version": "3.12.1"
  }
 },
 "nbformat": 4,
 "nbformat_minor": 2
}
