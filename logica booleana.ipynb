{
 "cells": [
  {
   "cell_type": "code",
   "execution_count": 15,
   "metadata": {},
   "outputs": [
    {
     "name": "stdout",
     "output_type": "stream",
     "text": [
      "Los dos números 10 son iguales\n"
     ]
    }
   ],
   "source": [
    "numero1 = input(\"Primer número: \")\n",
    "numero2 = input(\"Segundo número: \")\n",
    "\n",
    "if int(numero1) > int(numero2):\n",
    "    print(f\"{numero1} es mayor que {numero2}\")\n",
    "elif numero1 == numero2:\n",
    "    print(f\"Los dos números {numero1} son iguales\")\n",
    "else:\n",
    "    print(f\"{numero1} es menor que {numero2}\")"
   ]
  },
  {
   "cell_type": "code",
   "execution_count": 23,
   "metadata": {},
   "outputs": [
    {
     "name": "stdout",
     "output_type": "stream",
     "text": [
      "El número 17 está entre el 15 y el 20\n"
     ]
    }
   ],
   "source": [
    "numero1 = int(input(\"Dime un número: \"))\n",
    "if numero1 > 9 and numero1 < 21:\n",
    "    #print(f\"El número {numero1} está entre el 10 y el 20\")\n",
    "    if numero1 > 14:\n",
    "        print(f\"El número {numero1} está entre el 15 y el 20\")\n",
    "    else:\n",
    "        print(f\"El número {numero1} está entre el 10 y el 14\")\n",
    "else:\n",
    "    print(f\"El número {numero1} NO está entre el 10 y el 20\")    "
   ]
  },
  {
   "cell_type": "code",
   "execution_count": 31,
   "metadata": {},
   "outputs": [
    {
     "name": "stdout",
     "output_type": "stream",
     "text": [
      "Al menos uno de las condiciones es cierta\n",
      "Ambas condiciones se cumplen\n"
     ]
    }
   ],
   "source": [
    "\n",
    "x = 10\n",
    "y= 5\n",
    "\n",
    "if x > 5 or y > 10:\n",
    "    print(\"Al menos uno de las condiciones es cierta\")\n",
    "\n",
    "if x < 5 or y > 10:\n",
    "    print(\"Ninguna de las condiciones es cierta\")\n",
    "\n",
    "if x > 5 and y > 10:\n",
    "    print (\"No me va a devolver nada\")\n",
    "\n",
    "if not x > 5 and not y > 4:\n",
    "    print (\"Ambas condiciones se cumplen\")\n",
    "\n",
    "if not x > 15 and not y > 10:\n",
    "    print (\"Ambas condiciones se cumplen\")\n",
    "\n"
   ]
  },
  {
   "cell_type": "code",
   "execution_count": null,
   "metadata": {},
   "outputs": [],
   "source": [
    "2, 2, +\n",
    "3, 2, -\n",
    "3,2 *\n",
    "A, 2, + \"Que una de los número es no es válido\"\n"
   ]
  }
 ],
 "metadata": {
  "kernelspec": {
   "display_name": ".venv",
   "language": "python",
   "name": "python3"
  },
  "language_info": {
   "codemirror_mode": {
    "name": "ipython",
    "version": 3
   },
   "file_extension": ".py",
   "mimetype": "text/x-python",
   "name": "python",
   "nbconvert_exporter": "python",
   "pygments_lexer": "ipython3",
   "version": "3.12.1"
  }
 },
 "nbformat": 4,
 "nbformat_minor": 2
}
