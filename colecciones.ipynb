{
 "cells": [
  {
   "cell_type": "markdown",
   "metadata": {},
   "source": [
    "# Colecciones"
   ]
  },
  {
   "cell_type": "markdown",
   "metadata": {},
   "source": [
    "## List"
   ]
  },
  {
   "cell_type": "code",
   "execution_count": 8,
   "metadata": {},
   "outputs": [
    {
     "name": "stdout",
     "output_type": "stream",
     "text": [
      "2\n",
      "pera\n",
      "1\n"
     ]
    }
   ],
   "source": [
    "numeros = [1, 2, 3, 4, 5]\n",
    "frutas = [\"manzana\", \"naranja\", \"pera\"]\n",
    "mixta = [1, \"rojo\", 2.3]\n",
    "\n",
    "\n",
    "print(numeros[1])\n",
    "print(frutas[2])\n",
    "print(mixta[0])"
   ]
  },
  {
   "cell_type": "code",
   "execution_count": 10,
   "metadata": {},
   "outputs": [
    {
     "name": "stdout",
     "output_type": "stream",
     "text": [
      "6\n"
     ]
    }
   ],
   "source": [
    "#Añadir nuevo valor a la lista\n",
    "numeros.append(6)\n",
    "print(numeros[5])"
   ]
  },
  {
   "cell_type": "code",
   "execution_count": 13,
   "metadata": {},
   "outputs": [
    {
     "name": "stdout",
     "output_type": "stream",
     "text": [
      "melocoton\n"
     ]
    }
   ],
   "source": [
    "# Modificar un valor de la lista\n",
    "print(frutas[1])\n",
    "frutas[1] = \"melocoton\""
   ]
  },
  {
   "cell_type": "code",
   "execution_count": 18,
   "metadata": {},
   "outputs": [
    {
     "name": "stdout",
     "output_type": "stream",
     "text": [
      "[1, 'rojo']\n"
     ]
    }
   ],
   "source": [
    "# Borrar un elemento\n",
    "mixta.remove(2.3)\n",
    "print(mixta)\n"
   ]
  },
  {
   "cell_type": "code",
   "execution_count": 24,
   "metadata": {},
   "outputs": [
    {
     "name": "stdout",
     "output_type": "stream",
     "text": [
      "['manzana', 'naranja', 'pera', 'fresa']\n",
      "['manzana', 'naranja', 'peras', 'fresa']\n",
      "['manzana', 'naranja', 'fresa']\n"
     ]
    }
   ],
   "source": [
    "#Ejemplo de operaciones con listas\n",
    "frutas_varias = [\"manzana\", \"naranja\", \"pera\"]\n",
    "frutas_varias.append(\"fresa\")\n",
    "print(frutas_varias)\n",
    "frutas_varias[2] = \"peras\"\n",
    "print(frutas_varias)\n",
    "frutas_varias.pop(2)\n",
    "print(frutas_varias)"
   ]
  },
  {
   "cell_type": "markdown",
   "metadata": {},
   "source": [
    "## Tuplas\n",
    "Esta sección se trata sobre *colecciones* de tipo **Tupla**"
   ]
  },
  {
   "cell_type": "code",
   "execution_count": 25,
   "metadata": {},
   "outputs": [],
   "source": [
    "mi_tupla = (1, 2, 3, 4, 5)  \n",
    "frutas = (\"manzana\", \"banana\", \"cereza\")  \n",
    "tupla_mixta = (1, \"hola\", 3.14, True)  "
   ]
  },
  {
   "cell_type": "code",
   "execution_count": 27,
   "metadata": {},
   "outputs": [
    {
     "name": "stdout",
     "output_type": "stream",
     "text": [
      "2\n",
      "True\n"
     ]
    }
   ],
   "source": [
    "print(mi_tupla[1])\n",
    "print(tupla_mixta[3])"
   ]
  },
  {
   "cell_type": "markdown",
   "metadata": {},
   "source": [
    "## Sets"
   ]
  },
  {
   "cell_type": "code",
   "execution_count": 49,
   "metadata": {},
   "outputs": [],
   "source": [
    "numeros = {1, 2, 3, 4, 5}\n",
    "frutas = {\"manzana\", \"naranja\", \"pera\"}\n",
    "mixto = {1, \"hola\", 3.1415}\n",
    "vacio = set()\n"
   ]
  },
  {
   "cell_type": "code",
   "execution_count": 51,
   "metadata": {},
   "outputs": [
    {
     "name": "stdout",
     "output_type": "stream",
     "text": [
      "{1, 2, 3, 4, 5, 6}\n",
      "6\n",
      "5\n",
      "{1, 2, 3, 4, 5}\n"
     ]
    }
   ],
   "source": [
    "numeros.add(6)\n",
    "print(numeros)\n",
    "print(len(numeros))\n",
    "numeros.remove(len(numeros))\n",
    "print(len(numeros))\n",
    "print(numeros)"
   ]
  },
  {
   "cell_type": "code",
   "execution_count": 54,
   "metadata": {},
   "outputs": [
    {
     "name": "stdout",
     "output_type": "stream",
     "text": [
      "{1, 2, 3, 4, 5}\n",
      "{1, 2, 3, 4, 5, 6, 7, 8}\n"
     ]
    }
   ],
   "source": [
    "masnumeros=numeros.union({5, 6, 7, 8})\n",
    "\n",
    "print(numeros)\n",
    "print(masnumeros)"
   ]
  },
  {
   "cell_type": "code",
   "execution_count": 56,
   "metadata": {},
   "outputs": [
    {
     "name": "stdout",
     "output_type": "stream",
     "text": [
      "{1, 2, 3, 4, 5}\n",
      "{2, 4}\n"
     ]
    }
   ],
   "source": [
    "iterseccion = numeros.intersection({2, 4, 7, 9})\n",
    "print(numeros)\n",
    "print(iterseccion)"
   ]
  },
  {
   "cell_type": "code",
   "execution_count": 59,
   "metadata": {},
   "outputs": [
    {
     "name": "stdout",
     "output_type": "stream",
     "text": [
      "{1, 2, 3, 4, 5}\n",
      "{2, 3, 5}\n"
     ]
    }
   ],
   "source": [
    "diferencia = numeros.difference({1, 4, 6, 7})\n",
    "print(numeros)\n",
    "print(diferencia)"
   ]
  },
  {
   "cell_type": "markdown",
   "metadata": {},
   "source": [
    "## Diccionarios"
   ]
  },
  {
   "cell_type": "code",
   "execution_count": 76,
   "metadata": {},
   "outputs": [
    {
     "name": "stdout",
     "output_type": "stream",
     "text": [
      "0xffffff\n",
      "dict_keys(['blanco', 'negro', 'rojo'])\n",
      "dict_values([16777215, 0, 16711680])\n",
      "{'blanco': 16777215, 'negro': 0, 'rojo': 16711680}\n"
     ]
    }
   ],
   "source": [
    "personas = {\"Nombre\" : \"Juan Carlos\", \"Edad\": 25, \"Ciudad\": \"Madrid\"}\n",
    "colores = {\"blanco\": 0xFFFFFF, \"negro\": 0x000000, \"rojo\": 0xFF0000}\n",
    "vacio = {}\n",
    "\n",
    "print(hex(colores[\"blanco\"]))\n",
    "print(colores.keys())\n",
    "print(colores.values())\n",
    "print(colores)\n"
   ]
  },
  {
   "cell_type": "code",
   "execution_count": 71,
   "metadata": {},
   "outputs": [
    {
     "name": "stdout",
     "output_type": "stream",
     "text": [
      "{'Nombre': 'Juan Carlos', 'Edad': 35, 'Ciudad': 'Madrid'}\n"
     ]
    }
   ],
   "source": [
    "personas[\"Edad\"] = 35\n",
    "print(personas)"
   ]
  },
  {
   "cell_type": "code",
   "execution_count": 72,
   "metadata": {},
   "outputs": [
    {
     "name": "stdout",
     "output_type": "stream",
     "text": [
      "{'Nombre': 'Juan Carlos', 'Edad': 35, 'Ciudad': 'Madrid', 'Apellido': 'Ramirez'}\n"
     ]
    }
   ],
   "source": [
    "personas[\"Apellido\"] = \"Ramirez\"\n",
    "print(personas)"
   ]
  },
  {
   "cell_type": "code",
   "execution_count": 73,
   "metadata": {},
   "outputs": [
    {
     "name": "stdout",
     "output_type": "stream",
     "text": [
      "{'Nombre': 'Juan Carlos', 'Edad': 35, 'Apellido': 'Ramirez'}\n"
     ]
    }
   ],
   "source": [
    "del personas[\"Ciudad\"]\n",
    "print(personas)"
   ]
  },
  {
   "cell_type": "markdown",
   "metadata": {},
   "source": [
    "## Practicas"
   ]
  },
  {
   "cell_type": "markdown",
   "metadata": {},
   "source": [
    "#### Lista de Estudiantes:\n",
    "Crea una lista con los nombres de cinco estudiantes. Añade un nuevo estudiante al final de la lista, luego elimina el tercer estudiante. Imprime la lista resultante."
   ]
  },
  {
   "cell_type": "markdown",
   "metadata": {},
   "source": [
    "#### Tupla de Fechas:\n",
    "Crea una tupla que contenga tres fechas importantes (como cumpleaños o aniversarios). Intenta modificar una de las fechas y observa el error que se genera."
   ]
  },
  {
   "cell_type": "markdown",
   "metadata": {},
   "source": [
    "#### Set de Colores:\n",
    "Crea un set con los nombres de cuatro colores. Añade un nuevo color y luego elimina uno de los colores existentes. Imprime el set resultante."
   ]
  },
  {
   "cell_type": "markdown",
   "metadata": {},
   "source": [
    "#### Diccionario de Precios:\n",
    "Crea un diccionario que contenga tres productos como claves y sus respectivos precios como valores. Actualiza el precio de uno de los productos y añade un nuevo producto con su precio. Imprime el diccionario resultante."
   ]
  },
  {
   "cell_type": "markdown",
   "metadata": {},
   "source": [
    "### In, Any, All"
   ]
  },
  {
   "cell_type": "code",
   "execution_count": 88,
   "metadata": {},
   "outputs": [
    {
     "name": "stdout",
     "output_type": "stream",
     "text": [
      "True\n",
      "False\n"
     ]
    }
   ],
   "source": [
    "frutas = [\"manzana\", \"naranja\", \"pera\"]\n",
    "print(\"manzana\" in frutas)\n",
    "print(\"nabo\" in frutas)"
   ]
  },
  {
   "cell_type": "code",
   "execution_count": 92,
   "metadata": {},
   "outputs": [
    {
     "name": "stdout",
     "output_type": "stream",
     "text": [
      "True\n"
     ]
    }
   ],
   "source": [
    "saludo = \"Hola mundo\"\n",
    "print(\"la mu\" in saludo)"
   ]
  },
  {
   "cell_type": "code",
   "execution_count": 110,
   "metadata": {},
   "outputs": [
    {
     "name": "stdout",
     "output_type": "stream",
     "text": [
      "True\n",
      "True\n",
      "True\n"
     ]
    }
   ],
   "source": [
    "contactos = {\"Alice\": \"539.645.789\", \"Pedro\":\"654.356.236\"}\n",
    "print(\"Alice\" in contactos)\n",
    "print(\"789\" in contactos[\"Alice\"])\n",
    "print(\"539.645.789\" in contactos.values())"
   ]
  },
  {
   "cell_type": "code",
   "execution_count": 118,
   "metadata": {},
   "outputs": [
    {
     "name": "stdout",
     "output_type": "stream",
     "text": [
      "True\n",
      "True\n"
     ]
    }
   ],
   "source": [
    "valores = [3, 1, 2]\n",
    "print(any(valores))\n",
    "print(all(valores))"
   ]
  },
  {
   "cell_type": "code",
   "execution_count": 119,
   "metadata": {},
   "outputs": [
    {
     "name": "stdout",
     "output_type": "stream",
     "text": [
      "Al menos una de las condiciones es cierta\n"
     ]
    }
   ],
   "source": [
    "if(any(valores)):\n",
    "    print(\"Al menos una de las condiciones es cierta\")\n",
    "else:\n",
    "    print(\"Ninguna de las condiciones es cierta\")"
   ]
  },
  {
   "cell_type": "markdown",
   "metadata": {},
   "source": [
    "# Reto Final\n",
    "\n",
    "Vas a crear un sencillo sistema de gestión de contactos. Este sistema debe permitir agregar contactos, actualizar su número de teléfono, eliminar contactos y mostrar todos los contactos. Cada contacto tendrá un nombre y un número de teléfono.\n",
    "\n",
    "Requisitos:\n",
    "\n",
    "- Agregar Contacto:\n",
    "    - El usuario debe poder agregar un contacto especificando el nombre y el número de teléfono.\n",
    "    - No debe permitir agregar contactos con el mismo nombre dos veces.\n",
    "- Actualizar Teléfono:\n",
    "    - El usuario debe poder actualizar el número de teléfono de un contacto existente.\n",
    "- Eliminar Contacto:\n",
    "    - El usuario debe poder eliminar un contacto de la lista por su nombre.\n",
    "- Mostrar Contactos:\n",
    "    - El sistema debe poder mostrar una lista de todos los contactos, incluyendo nombre y número de teléfono.\n",
    "\n",
    "Debes utilizar inputs para introducir la operación que quieres realizar, y pedir los datos necesarios para realizarla."
   ]
  }
 ],
 "metadata": {
  "kernelspec": {
   "display_name": ".venv",
   "language": "python",
   "name": "python3"
  },
  "language_info": {
   "codemirror_mode": {
    "name": "ipython",
    "version": 3
   },
   "file_extension": ".py",
   "mimetype": "text/x-python",
   "name": "python",
   "nbconvert_exporter": "python",
   "pygments_lexer": "ipython3",
   "version": "3.12.1"
  }
 },
 "nbformat": 4,
 "nbformat_minor": 2
}
