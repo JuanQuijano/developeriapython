{
 "cells": [
  {
   "cell_type": "markdown",
   "metadata": {},
   "source": [
    "# Colecciones"
   ]
  },
  {
   "cell_type": "markdown",
   "metadata": {},
   "source": [
    "## List"
   ]
  },
  {
   "cell_type": "code",
   "execution_count": 8,
   "metadata": {},
   "outputs": [
    {
     "name": "stdout",
     "output_type": "stream",
     "text": [
      "2\n",
      "pera\n",
      "1\n"
     ]
    }
   ],
   "source": [
    "numeros = [1, 2, 3, 4, 5]\n",
    "frutas = [\"manzana\", \"naranja\", \"pera\"]\n",
    "mixta = [1, \"rojo\", 2.3]\n",
    "\n",
    "\n",
    "print(numeros[1])\n",
    "print(frutas[2])\n",
    "print(mixta[0])"
   ]
  },
  {
   "cell_type": "code",
   "execution_count": 10,
   "metadata": {},
   "outputs": [
    {
     "name": "stdout",
     "output_type": "stream",
     "text": [
      "6\n"
     ]
    }
   ],
   "source": [
    "#Añadir nuevo valor a la lista\n",
    "numeros.append(6)\n",
    "print(numeros[5])"
   ]
  },
  {
   "cell_type": "code",
   "execution_count": 13,
   "metadata": {},
   "outputs": [
    {
     "name": "stdout",
     "output_type": "stream",
     "text": [
      "melocoton\n"
     ]
    }
   ],
   "source": [
    "# Modificar un valor de la lista\n",
    "print(frutas[1])\n",
    "frutas[1] = \"melocoton\""
   ]
  },
  {
   "cell_type": "code",
   "execution_count": 18,
   "metadata": {},
   "outputs": [
    {
     "name": "stdout",
     "output_type": "stream",
     "text": [
      "[1, 'rojo']\n"
     ]
    }
   ],
   "source": [
    "# Borrar un elemento\n",
    "mixta.remove(2.3)\n",
    "print(mixta)\n"
   ]
  },
  {
   "cell_type": "code",
   "execution_count": 24,
   "metadata": {},
   "outputs": [
    {
     "name": "stdout",
     "output_type": "stream",
     "text": [
      "['manzana', 'naranja', 'pera', 'fresa']\n",
      "['manzana', 'naranja', 'peras', 'fresa']\n",
      "['manzana', 'naranja', 'fresa']\n"
     ]
    }
   ],
   "source": [
    "#Ejemplo de operaciones con listas\n",
    "frutas_varias = [\"manzana\", \"naranja\", \"pera\"]\n",
    "frutas_varias.append(\"fresa\")\n",
    "print(frutas_varias)\n",
    "frutas_varias[2] = \"peras\"\n",
    "print(frutas_varias)\n",
    "frutas_varias.pop(2)\n",
    "print(frutas_varias)"
   ]
  },
  {
   "cell_type": "markdown",
   "metadata": {},
   "source": [
    "## Tuplas\n",
    "Esta sección se trata sobre *colecciones* de tipo **Tupla**"
   ]
  },
  {
   "cell_type": "code",
   "execution_count": 25,
   "metadata": {},
   "outputs": [],
   "source": [
    "mi_tupla = (1, 2, 3, 4, 5)  \n",
    "frutas = (\"manzana\", \"banana\", \"cereza\")  \n",
    "tupla_mixta = (1, \"hola\", 3.14, True)  "
   ]
  },
  {
   "cell_type": "code",
   "execution_count": 27,
   "metadata": {},
   "outputs": [
    {
     "name": "stdout",
     "output_type": "stream",
     "text": [
      "2\n",
      "True\n"
     ]
    }
   ],
   "source": [
    "print(mi_tupla[1])\n",
    "print(tupla_mixta[3])"
   ]
  },
  {
   "cell_type": "markdown",
   "metadata": {},
   "source": [
    "## Sets"
   ]
  },
  {
   "cell_type": "code",
   "execution_count": 49,
   "metadata": {},
   "outputs": [],
   "source": [
    "numeros = {1, 2, 3, 4, 5}\n",
    "frutas = {\"manzana\", \"naranja\", \"pera\"}\n",
    "mixto = {1, \"hola\", 3.1415}\n",
    "vacio = set()\n"
   ]
  },
  {
   "cell_type": "code",
   "execution_count": 51,
   "metadata": {},
   "outputs": [
    {
     "name": "stdout",
     "output_type": "stream",
     "text": [
      "{1, 2, 3, 4, 5, 6}\n",
      "6\n",
      "5\n",
      "{1, 2, 3, 4, 5}\n"
     ]
    }
   ],
   "source": [
    "numeros.add(6)\n",
    "print(numeros)\n",
    "print(len(numeros))\n",
    "numeros.remove(len(numeros))\n",
    "print(len(numeros))\n",
    "print(numeros)"
   ]
  },
  {
   "cell_type": "code",
   "execution_count": 54,
   "metadata": {},
   "outputs": [
    {
     "name": "stdout",
     "output_type": "stream",
     "text": [
      "{1, 2, 3, 4, 5}\n",
      "{1, 2, 3, 4, 5, 6, 7, 8}\n"
     ]
    }
   ],
   "source": [
    "masnumeros=numeros.union({5, 6, 7, 8})\n",
    "\n",
    "print(numeros)\n",
    "print(masnumeros)"
   ]
  },
  {
   "cell_type": "code",
   "execution_count": 56,
   "metadata": {},
   "outputs": [
    {
     "name": "stdout",
     "output_type": "stream",
     "text": [
      "{1, 2, 3, 4, 5}\n",
      "{2, 4}\n"
     ]
    }
   ],
   "source": [
    "iterseccion = numeros.intersection({2, 4, 7, 9})\n",
    "print(numeros)\n",
    "print(iterseccion)"
   ]
  },
  {
   "cell_type": "code",
   "execution_count": 59,
   "metadata": {},
   "outputs": [
    {
     "name": "stdout",
     "output_type": "stream",
     "text": [
      "{1, 2, 3, 4, 5}\n",
      "{2, 3, 5}\n"
     ]
    }
   ],
   "source": [
    "diferencia = numeros.difference({1, 4, 6, 7})\n",
    "print(numeros)\n",
    "print(diferencia)"
   ]
  }
 ],
 "metadata": {
  "kernelspec": {
   "display_name": ".venv",
   "language": "python",
   "name": "python3"
  },
  "language_info": {
   "codemirror_mode": {
    "name": "ipython",
    "version": 3
   },
   "file_extension": ".py",
   "mimetype": "text/x-python",
   "name": "python",
   "nbconvert_exporter": "python",
   "pygments_lexer": "ipython3",
   "version": "3.12.1"
  }
 },
 "nbformat": 4,
 "nbformat_minor": 2
}
